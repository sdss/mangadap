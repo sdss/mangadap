{
 "cells": [
  {
   "cell_type": "markdown",
   "metadata": {},
   "source": [
    "# Installation\n",
    "\n",
    "The DAP is only compatible with Python3 at the moment.  You can get Python3 from https://www.python.org/ or you can install Anaconda from https://www.anaconda.com/download/.\n",
    "\n",
    "To install the DAP, grab the code from the new SDSS git repository and run the setup script:\n",
    "\n",
    "```\n",
    "git clone https://github.com/sdss/mangadap.git\n",
    "cd mangadap\n",
    "git fetch\n",
    "git checkout release-dr15\n",
    "python3 setup.py install\n",
    "```\n",
    "\n",
    "You can see the python package dependencies, which the setup should try to install, in the `mangadap/requirements.txt` file:\n",
    "\n",
    "```\n",
    "# Package dependencies of the MaNGA DAP\n",
    "numpy>=1.13.3\n",
    "scipy>=1.0\n",
    "matplotlib>=2.1.0\n",
    "astropy>=2.0.2\n",
    "pydl>=0.6.0\n",
    "ppxf==6.7.8\n",
    "vorbin==3.1.3\n",
    "```\n",
    "\n",
    "There's currently no DAP test suite, so we just have to try to run the code to see if it install correctly.\n",
    "\n",
    "At the end of the installation you'll likely get warnings like these:\n",
    "\n",
    "```\n",
    " UserWarning: MANGADRP_VER environmental variable undefined.  Default is: v2_4_3\n",
    " UserWarning: MANGA_SPECTRO_REDUX environmental variable undefined.  Default is: /Users/westfall/MaNGA/redux\n",
    " UserWarning: MANGADAP_VER environmental variable undefined.  Default is: 2.2.3dev\n",
    " UserWarning: MANGA_SPECTRO_ANALYSIS environmental variable undefined.  Default is: /Users/westfall/MaNGA/analysis\n",
    " UserWarning: MANGACORE_VER environmental variable undefined.  Default is: v1_6_2\n",
    " UserWarning: MANGACORE_DIR environmental variable undefined.  Default is: /Users/westfall/MaNGA/core/v1_6_2\n",
    "```\n",
    "\n",
    "This is telling you that the environment variables are not set, and that it will use the default values.  These warnings will also appear anytime you import the DAP.  The table below provides a description of these environmental variables.\n",
    "\n",
    "| Key                       | Default                | Purpose |\n",
    "|---------------------------|------------------------|---------|\n",
    "| `$MANGADRP_VER`           | `v2_4_3`               | Sets DRP version used for some file names |\n",
    "| `$MANGA_SPECTRO_REDUX`    | `$HOME/MaNGA/redux`    | Root directory with all reduced data |\n",
    "| `$MANGADAP_VER`           | `mangadap.__version__` | Sets the DAP version *used to set the path to read/write any DAP output files.*  I.e., this does not reset the version of the code that will be used. |\n",
    "| `$MANGA_SPECTRO_ANALYSIS` | `$HOME/MaNGA/analysis` | Root directory for all the analysis data |\n",
    "| `$MANGACORE_VER`          | `v1_6_2`               | MaNGA CORE version (only needed for survey-level setup of the DAP) |\n",
    "| `$MANGACORE_DIR`          | `$HOME/MaNGA/core/$MANGACORE_VER` | Directory with MaNGA CORE source (only needed for survey-level setup of the DAP |\n",
    "\n",
    "These will be the values used if you don't redefine them in your environment.  You can do this by adding something similar to the following to your `.bash_profile` file.\n",
    "\n",
    "```\n",
    "export MANGADRP_VER=v2_4_3\n",
    "export MANGA_SPECTRO_REDUX=/MY/MANGA/REDUX/PATH\n",
    "\n",
    "export MANGADAP_VER=2.2.1\n",
    "export MANGA_SPECTRO_ANALYSIS=/MY/MANGA/ANALYSIS/PATH\n",
    "\n",
    "export MANGACORE_VER=v1_6_2\n",
    "export MANGACORE_DIR=$HOME/Work/MaNGA/core/$MANGACORE_VER\n",
    "```\n",
    "\n",
    "**Note**: The DAP expects to find the `LOGCUBE` files to fit in `$MANGA_SPECTRO_REDUX/$MANGADRP_VER/*/stack` and it will write output to `$MANGA_SPECTRO_ANALYSIS/$MANGADRP_VER/$MANGADAP_VER/`.\n"
   ]
  },
  {
   "cell_type": "code",
   "execution_count": 1,
   "metadata": {},
   "outputs": [
    {
     "name": "stderr",
     "output_type": "stream",
     "text": [
      " UserWarning: MANGADRP_VER environmental variable undefined.  Using: v2_4_3\n",
      " UserWarning: MANGA_SPECTRO_REDUX environmental variable undefined.  Using: /Users/westfall/MaNGA/redux\n",
      " UserWarning: MANGADAP_VER environmental variable undefined.  Using: 2.2.3dev\n",
      " UserWarning: MANGA_SPECTRO_ANALYSIS environmental variable undefined.  Using: /Users/westfall/MaNGA/analysis\n",
      " UserWarning: MANGACORE_VER environmental variable undefined.  Using: v1_6_2\n",
      " UserWarning: MANGACORE_DIR environmental variable undefined.  Using: /Users/westfall/MaNGA/core/v1_6_2\n"
     ]
    }
   ],
   "source": [
    "import mangadap"
   ]
  },
  {
   "cell_type": "markdown",
   "metadata": {},
   "source": [
    "# Fitting one datacube\n",
    "\n",
    "You can fit any datacube using the code in the following few cells."
   ]
  },
  {
   "cell_type": "code",
   "execution_count": 2,
   "metadata": {},
   "outputs": [],
   "source": [
    "import os\n",
    "import numpy\n",
    "import astropy.constants\n",
    "from astropy.io import fits\n",
    "from mangadap.survey.manga_dap import manga_dap\n",
    "from mangadap.par.obsinput import ObsInputPar\n",
    "from mangadap.par.analysisplan import AnalysisPlan, AnalysisPlanSet"
   ]
  },
  {
   "cell_type": "code",
   "execution_count": 3,
   "metadata": {},
   "outputs": [],
   "source": [
    "def get_obsinput(plt, ifu, drpall_file=None):\n",
    "    \"\"\"\n",
    "    Grab the input parameters the DAP requires for each observation to\n",
    "    fit a cube.  If the drpall file is None, use the default path.\n",
    "    \"\"\"\n",
    "    hdu = fits.open(os.path.join(os.environ['MANGA_SPECTRO_REDUX'], os.environ['MANGADRP_VER'],\n",
    "                                 'drpall-{0}.fits'.format(os.environ['MANGADRP_VER']))) \\\n",
    "                if drpall_file is None else fits.open(drpall_file)\n",
    "    indx = hdu[1].data['PLATEIFU'] == '{0}-{1}'.format(plt, ifu)\n",
    "\n",
    "    return ObsInputPar(plt, ifu, mode='CUBE',\n",
    "                       vel=astropy.constants.c.to('km/s').value*hdu[1].data['NSA_Z'][indx][0],\n",
    "                       vdisp=100.,\n",
    "                       ell=1-hdu[1].data['NSA_ELPETRO_BA'][indx][0],\n",
    "                       pa=hdu[1].data['NSA_ELPETRO_PHI'][indx][0],\n",
    "                       reff=hdu[1].data['NSA_ELPETRO_TH50_R'][indx][0])"
   ]
  },
  {
   "cell_type": "code",
   "execution_count": 4,
   "metadata": {},
   "outputs": [],
   "source": [
    "def fit_one_cube(plt, ifu, drpall_file=None, directory_path=None, analysis_path=None):\n",
    "    # Grab the required input parameters\n",
    "    obs = get_obsinput(plt, ifu, drpall_file=drpall_file)\n",
    "\n",
    "    # Define how you want to analyze the data\n",
    "    plan = AnalysisPlanSet([ AnalysisPlan(drpqa_key='SNRG',\n",
    "                                          bin_key='HYB10',\n",
    "                                          continuum_key='GAU-MILESHC',\n",
    "                                          elmom_key='EMOMM',\n",
    "                                          elfit_key='EFITMDB',\n",
    "                                          spindex_key='INDXEN') ])\n",
    "\n",
    "    # Run it!\n",
    "    return manga_dap(obs, plan, verbose=2, directory_path=directory_path,\n",
    "                     analysis_path=analysis_path)"
   ]
  },
  {
   "cell_type": "code",
   "execution_count": 5,
   "metadata": {},
   "outputs": [
    {
     "name": "stderr",
     "output_type": "stream",
     "text": [
      "INFO     ::  --------------------------------------------------\n",
      "INFO     ::             MaNGA Data Analysis Pipeline           \n",
      "INFO     ::  --------------------------------------------------\n",
      "INFO     ::     VERSION: 2.2.3dev\n",
      "INFO     ::       START: Wed 20 Jun 2018 14:31:03\n",
      "INFO     ::       PLATE: 7815\n",
      "INFO     ::   IFUDESIGN: 3702\n",
      "INFO     ::     3D MODE: CUBE\n",
      "INFO     ::     N PLANS: 1\n",
      "INFO     ::  --------------------------------------------------\n",
      "INFO     ::   Opened DRP file: ./data/manga-7815-3702-LOGCUBE.fits.gz\n",
      "\n",
      "INFO     ::  --------------------------------------------------\n",
      "INFO     ::                        Plan 1                      \n",
      "INFO     ::  --------------------------------------------------\n",
      "INFO     ::      METHOD: HYB10-GAU-MILESHC\n",
      "INFO     ::      OUTPUT: ./output/HYB10-GAU-MILESHC/7815/3702\n",
      "INFO     ::  REF OUTPUT: ./output/HYB10-GAU-MILESHC/7815/3702/ref\n",
      "INFO     ::  --------------------------------------------------\n",
      "INFO     ::          REDUCTION ASSESSMENT COMPUTATIONS         \n",
      "INFO     ::  --------------------------------------------------\n",
      "INFO     ::  Output path: ./output/common/7815/3702\n",
      "INFO     ::  Output file: manga-7815-3702-SNRG.fits.gz\n",
      "INFO     ::  Reading exiting file\n",
      "WARNING  ::   UserWarning: Provided ellipticity different from available file; set clobber=True to overwrite.\n",
      "INFO     ::  --------------------------------------------------\n",
      "INFO     ::  --------------------------------------------------\n",
      "INFO     ::              SPATIALLY BINNING SPECTRA             \n",
      "INFO     ::  --------------------------------------------------\n",
      "INFO     ::  Total spectra: 1764\n",
      "INFO     ::  With 80% spectral coverage: 773\n",
      "INFO     ::  With good S/N: 839\n",
      "INFO     ::  Number of good spectra: 773\n",
      "INFO     ::  Galactic extinction law: ODonnell\n",
      "INFO     ::  Galactic E(B-V) = 0.101375\n",
      "INFO     ::  Galactic R(V): 3.1\n",
      "INFO     ::  Output path: ./output/common/7815/3702\n",
      "INFO     ::  Output file: manga-7815-3702-SNRG-HYB10.fits.gz\n",
      "INFO     ::  Reading existing file\n"
     ]
    },
    {
     "name": "stdout",
     "output_type": "stream",
     "text": [
      "Read covariance cube:\n",
      "       output type: Correlation\n",
      "        dimensions: 2\n",
      "             shape: (1764, 1764)\n",
      "   non-zero values: 32314\n"
     ]
    },
    {
     "name": "stderr",
     "output_type": "stream",
     "text": [
      "WARNING  ::   UserWarning: Fewer unique channels than all available.\n",
      "WARNING  ::   UserWarning: Unable to find/read covariance data.\n"
     ]
    },
    {
     "name": "stdout",
     "output_type": "stream",
     "text": [
      "Read covariance cube:\n",
      "       output type: Correlation\n",
      "        dimensions: 3\n",
      "             shape: (497, 497, 11)\n",
      "    pseudo-indices:  [   0  456  912 1368 1824 2281 2737 3193 3649 4105]\n",
      "   non-zero values: 183735\n",
      "Input covariance matrix (or elements) must be csr_matrices.\n"
     ]
    },
    {
     "name": "stderr",
     "output_type": "stream",
     "text": [
      "INFO     ::  --------------------------------------------------\n",
      "INFO     ::  --------------------------------------------------\n",
      "INFO     ::              STELLAR CONTINUUM FITTING             \n",
      "INFO     ::  --------------------------------------------------\n",
      "INFO     ::  Number of binned spectra: 497\n",
      "INFO     ::  With good S/N and to fit: 497\n",
      "INFO     ::  Determining initial guess kinematics\n",
      "INFO     ::  Instantiating template library...\n",
      "INFO     ::  --------------------------------------------------\n",
      "INFO     ::  Template library output path: ./output/common/7815/3702\n",
      "INFO     ::  Template library output file: manga-7815-3702-MILESHC.fits.gz\n",
      "INFO     ::  Found 42 MILESHC templates\n",
      "INFO     ::  Maximum number of wavelength channels: 4300\n",
      "INFO     ::  Attempting to build raw data ...\n",
      "INFO     ::  ... done\n",
      "INFO     ::  Matching sampling ... \n",
      "INFO     ::  ... done\n",
      "INFO     ::  After resampling (target): 2.4999999999999998e-05\n",
      "INFO     ::  After resampling (calculated): 2.499999999999995e-05\n",
      "INFO     ::  --------------------------------------------------\n",
      "INFO     ::  Output path: ./output/HYB10-GAU-MILESHC/7815/3702/ref\n",
      "INFO     ::  Output file: manga-7815-3702-SNRG-HYB10-GAU-MILESHC.fits.gz\n",
      "INFO     ::  Using existing file\n",
      "WARNING  ::   UserWarning: Input header does not specify filtering boxcar.\n",
      "WARNING  ::   UserWarning: Input header does not specify number of filtering iterations.\n",
      "INFO     ::  --------------------------------------------------\n",
      "WARNING  ::   UserWarning: Bands with negative wavelengths are used to insert dummy values.  Ignoring input bands with indices: [2]\n",
      "INFO     ::  --------------------------------------------------\n",
      "INFO     ::                EMISSION-LINE MOMENTS               \n",
      "INFO     ::  --------------------------------------------------\n",
      "INFO     ::  --------------------------------------------------\n",
      "INFO     ::  Measurements for binned spectra\n",
      "INFO     ::  Using stellar continuum from stellar-continuum model fit.\n",
      "INFO     ::  Number of spectra: 497\n",
      "INFO     ::  With good S/N and to measure: 497\n",
      "INFO     ::  Output path: ./output/HYB10-GAU-MILESHC/7815/3702/ref\n",
      "INFO     ::  Output file: manga-7815-3702-SNRG-HYB10-GAU-MILESHC-EMOMM.fits.gz\n",
      "INFO     ::  Using existing file\n",
      "INFO     ::  --------------------------------------------------\n",
      "INFO     ::  --------------------------------------------------\n",
      "INFO     ::            EMISSION-LINE PROFILE FITTING           \n",
      "INFO     ::  --------------------------------------------------\n",
      "INFO     ::  Number of binned spectra: 497\n",
      "INFO     ::  With good S/N and to fit: 497\n",
      "INFO     ::  Bins deconstructed in fitting: True\n",
      "INFO     ::  Output path: ./output/HYB10-GAU-MILESHC/7815/3702/ref\n",
      "INFO     ::  Output file: manga-7815-3702-SNRG-HYB10-GAU-MILESHC-EFITMDB.fits.gz\n",
      "INFO     ::  Using existing file\n",
      "WARNING  ::   UserWarning: Fit parameter object does not have a fromheader attribute.  No parameters head from header.\n",
      "INFO     ::  --------------------------------------------------\n",
      "INFO     ::  --------------------------------------------------\n",
      "INFO     ::                EMISSION-LINE MOMENTS               \n",
      "INFO     ::  --------------------------------------------------\n",
      "INFO     ::  --------------------------------------------------\n",
      "INFO     ::  Measurements for unbinned spaxels\n",
      "INFO     ::  Using stellar continuum from emission-line model fit.\n",
      "INFO     ::  Number of spectra: 1764\n",
      "INFO     ::  With good S/N and to measure: 773\n",
      "INFO     ::  Output path: ./output/HYB10-GAU-MILESHC/7815/3702/ref\n",
      "INFO     ::  Output file: manga-7815-3702-SNRG-HYB10-GAU-MILESHC-EFITMDB-EMOMM.fits.gz\n",
      "INFO     ::  Using existing file\n",
      "INFO     ::  --------------------------------------------------\n",
      "INFO     ::  --------------------------------------------------\n",
      "INFO     ::             SPECTRAL-INDEX MEASUREMENTS            \n",
      "INFO     ::  --------------------------------------------------\n",
      "INFO     ::  Measurements for unbinned spaxels\n",
      "INFO     ::  Number of spectra: 1764\n",
      "INFO     ::  With good S/N and to measure: 773\n",
      "INFO     ::  Output path: ./output/HYB10-GAU-MILESHC/7815/3702/ref\n",
      "INFO     ::  Output file: manga-7815-3702-SNRG-HYB10-GAU-MILESHC-EFITMDB-INDXEN.fits.gz\n",
      "INFO     ::  Using existing file\n",
      "INFO     ::  --------------------------------------------------\n",
      "INFO     ::  --------------------------------------------------\n",
      "INFO     ::               CONSTRUCTING OUTPUT MAPS             \n",
      "INFO     ::  --------------------------------------------------\n",
      "INFO     ::  Output path: ./output/HYB10-GAU-MILESHC/7815/3702\n",
      "INFO     ::  Output file: manga-7815-3702-MAPS-HYB10-GAU-MILESHC.fits.gz\n",
      "INFO     ::  Output maps have shape (42, 42)\n",
      "INFO     ::  NSA redshift: 0.029382300000000004\n",
      "WARNING  ::   FITSFixedWarning: PLATEID = 7815 / Current plate \n",
      "a string value was expected.\n",
      "WARNING  ::   FITSFixedWarning: PLATEID = 7815 / Current plate \n",
      "a string value was expected.\n",
      "WARNING  ::   FITSFixedWarning: PLATEID = 7815 / Current plate \n",
      "a string value was expected.\n",
      "WARNING  ::   UserWarning: Fit parameter class has no toheader() function.  No parameters written to header.\n",
      "WARNING  ::   UserWarning: Fit parameter class has no toheader() function.  No parameters written to header.\n",
      "WARNING  ::   UserWarning: Attempting to use RSS counter-part for calculation.\n"
     ]
    },
    {
     "name": "stdout",
     "output_type": "stream",
     "text": [
      "Transfer Matrix Done                     \n"
     ]
    },
    {
     "name": "stderr",
     "output_type": "stream",
     "text": [
      "WARNING  ::   UserWarning: Attempting to use RSS counter-part for calculation.\n"
     ]
    },
    {
     "name": "stdout",
     "output_type": "stream",
     "text": [
      "Transfer Matrix Done                     \n"
     ]
    },
    {
     "name": "stderr",
     "output_type": "stream",
     "text": [
      "WARNING  ::   UserWarning: Attempting to use RSS counter-part for calculation.\n"
     ]
    },
    {
     "name": "stdout",
     "output_type": "stream",
     "text": [
      "Transfer Matrix Done                     \n"
     ]
    },
    {
     "name": "stderr",
     "output_type": "stream",
     "text": [
      "WARNING  ::   UserWarning: Attempting to use RSS counter-part for calculation.\n"
     ]
    },
    {
     "name": "stdout",
     "output_type": "stream",
     "text": [
      "Transfer Matrix Done                     \n"
     ]
    },
    {
     "name": "stderr",
     "output_type": "stream",
     "text": [
      "INFO     ::  Writing: ./output/HYB10-GAU-MILESHC/7815/3702/manga-7815-3702-MAPS-HYB10-GAU-MILESHC.fits\n",
      "INFO     ::  Compressing: ./output/HYB10-GAU-MILESHC/7815/3702/manga-7815-3702-MAPS-HYB10-GAU-MILESHC.fits.gz\n",
      "INFO     ::  --------------------------------------------------\n",
      "INFO     ::  --------------------------------------------------\n",
      "INFO     ::            CONSTRUCTING OUTPUT MODEL CUBE          \n",
      "INFO     ::  --------------------------------------------------\n",
      "INFO     ::  Output path: ./output/HYB10-GAU-MILESHC/7815/3702\n",
      "INFO     ::  Output file: manga-7815-3702-LOGCUBE-HYB10-GAU-MILESHC.fits.gz\n",
      "INFO     ::  Output cubes have shape (42, 42, 4563)\n",
      "INFO     ::  Constructing binned spectra datacube ...\n",
      "WARNING  ::   FITSFixedWarning: PLATEID = 7815 / Current plate \n",
      "a string value was expected.\n",
      "INFO     ::  Constructing stellar continuum datacube ...\n",
      "WARNING  ::   FITSFixedWarning: PLATEID = 7815 / Current plate \n",
      "a string value was expected.\n",
      "INFO     ::  Constructing emission-line model datacube ...\n",
      "WARNING  ::   FITSFixedWarning: PLATEID = 7815 / Current plate \n",
      "a string value was expected.\n",
      "WARNING  ::   FITSFixedWarning: PLATEID = 7815 / Current plate \n",
      "a string value was expected.\n",
      "WARNING  ::   UserWarning: Fit parameter class has no toheader() function.  No parameters written to header.\n",
      "WARNING  ::   UserWarning: Fit parameter class has no toheader() function.  No parameters written to header.\n",
      "WARNING  ::   FITSFixedWarning: PLATEID = 7815 / Current plate \n",
      "a string value was expected.\n",
      "INFO     ::  Writing: ./output/HYB10-GAU-MILESHC/7815/3702/manga-7815-3702-LOGCUBE-HYB10-GAU-MILESHC.fits\n",
      "INFO     ::  Compressing: ./output/HYB10-GAU-MILESHC/7815/3702/manga-7815-3702-LOGCUBE-HYB10-GAU-MILESHC.fits.gz\n",
      "INFO     ::  --------------------------------------------------\n",
      "INFO     ::  --------------------------------------------------\n",
      "INFO     ::  EXECUTION SUMMARY\n",
      "INFO     ::  --------------------------------------------------\n",
      "INFO     ::      FINISH: Wed 20 Jun 2018 14:32:10\n",
      "INFO     ::    DURATION: 1.12492 min\n",
      "INFO     ::  MAX MEMORY: 1.4552 Gbytes\n",
      "INFO     ::  --------------------------------------------------\n",
      "INFO     ::  --------------------------------------------------\n"
     ]
    },
    {
     "data": {
      "text/plain": [
       "0"
      ]
     },
     "execution_count": 5,
     "metadata": {},
     "output_type": "execute_result"
    }
   ],
   "source": [
    "fit_one_cube(7815, 3702, drpall_file='./data/drpall-v2_4_3.fits',\n",
    "             directory_path='./data', analysis_path='./output')"
   ]
  },
  {
   "cell_type": "markdown",
   "metadata": {},
   "source": [
    "# DAP Structure\n",
    "\n",
    "The DAP is loosely structured as follows:\n",
    "\n",
    " 1. **Wrapper classes**: Primarily handles the DAP data model.  Strong tie to MaNGA data format.\n",
    " 2. **Primary computational classes**: Performs the fitting.  Generally applicable\n",
    " 3. **Low-level functions**: Even more generally applicable function that perform single, specific tasks.\n",
    " \n",
    "The main wrapper classes are those that perform the main analysis steps for the dap:\n",
    " - `ReductionAssessments`: Performs some basic assessments of the datacube\n",
    " - `SpatiallyStackedSpectra`: Stacks the spectra according to a chosen binning method\n",
    " - `StellarContinuumModel`: Determines the best-fitting stellar continuum model for \n",
    " - `EmissionLineMoments`: Measures the 0th, 1st, and 2nd moments of a set of emission lines\n",
    " - `EmissionLineModel`: Models the emission lines with parameterized functions.\n",
    " - `SpectralIndices`: Measures absorption-line and bandhead indices\n",
    " \n",
    "A run of the DAP is an iteration through constructing instances of these objects for a given set of parameters.  The state of the object construction is saved as a \"reference\" file and the collection of constructed obects are used at the end of each iteration to construct the primary outputs of the DAP, the `MAPS` and model `LOGCUBE` files.  So we can construct a function equal to `fit_one_cube` above that explicitly calls the internal DAP classes.  To do that, we have to import all the necessary classes and functions."
   ]
  },
  {
   "cell_type": "code",
   "execution_count": 6,
   "metadata": {},
   "outputs": [],
   "source": [
    "from mangadap.config import defaults\n",
    "from mangadap.drpfits import DRPFits\n",
    "from mangadap.dapfits import construct_maps_file, construct_cube_file\n",
    "from mangadap.proc.reductionassessments import ReductionAssessment\n",
    "from mangadap.proc.spatiallybinnedspectra import SpatiallyBinnedSpectra\n",
    "from mangadap.proc.stellarcontinuummodel import StellarContinuumModel\n",
    "from mangadap.proc.emissionlinemoments import EmissionLineMoments\n",
    "from mangadap.proc.emissionlinemodel import EmissionLineModel\n",
    "from mangadap.proc.spectralindices import SpectralIndices"
   ]
  },
  {
   "cell_type": "code",
   "execution_count": 7,
   "metadata": {},
   "outputs": [],
   "source": [
    "def fit_one_cube_explicit(plt, ifu, drpall_file=None, directory_path=None, analysis_path=None):\n",
    "    # Grab the required input parameters\n",
    "    obs = get_obsinput(plt, ifu, drpall_file=drpall_file)\n",
    "    \n",
    "    plan = AnalysisPlan(drpqa_key='SNRG', bin_key='HYB10', continuum_key='GAU-MILESHC',\n",
    "                        elmom_key='EMOMM', elfit_key='EFITMDB', spindex_key='INDXEN')\n",
    "\n",
    "    # Set the the analysis path and make sure it exists\n",
    "    _analysis_path = defaults.default_analysis_path() \\\n",
    "                        if analysis_path is None else analysis_path\n",
    "    if not os.path.isdir(_analysis_path):\n",
    "        os.makedirs(_analysis_path)\n",
    "\n",
    "    # Set the nsa redshift\n",
    "    nsa_redshift = obs['vel']/astropy.constants.c.to('km/s').value\n",
    "\n",
    "    # Define the analysis method and the output directories\n",
    "    method = defaults.default_dap_method(plan=plan)\n",
    "    method_dir = defaults.default_dap_method_path(method, plate=obs['plate'],\n",
    "                                                  ifudesign=obs['ifudesign'],\n",
    "                                                  analysis_path=_analysis_path)\n",
    "    method_ref_dir = defaults.default_dap_method_path(method, plate=obs['plate'],\n",
    "                                                      ifudesign=obs['ifudesign'], ref=True,\n",
    "                                                      analysis_path=_analysis_path)\n",
    "\n",
    "    #-------------------------------------------------------------------\n",
    "    # Read the DRP file\n",
    "    drpf = DRPFits(obs['plate'], obs['ifudesign'], obs['mode'], \n",
    "                   directory_path=directory_path, read=True)\n",
    "\n",
    "    # Test if the RSS file exists\n",
    "    drpf_rss = DRPFits(obs['plate'], obs['ifudesign'], 'RSS', directory_path=directory_path,\n",
    "                       read=False)\n",
    "    if not os.path.isfile(drpf_rss.file_path()):\n",
    "        warnings.warn('RSS counterpart not available.  Some functionality may be limited!')\n",
    "    del drpf_rss\n",
    "\n",
    "    #---------------------------------------------------------------\n",
    "    # S/N Assessments\n",
    "    rdxqa = ReductionAssessment(plan['drpqa_key'], drpf, pa=obs['pa'], ell=obs['ell'],\n",
    "                                analysis_path=_analysis_path, symlink_dir=method_ref_dir,\n",
    "                                clobber=plan['drpqa_clobber'])\n",
    "\n",
    "    #---------------------------------------------------------------\n",
    "    # Spatial Binning\n",
    "    binned_spectra = SpatiallyBinnedSpectra(plan['bin_key'], drpf, rdxqa, reff=obs['reff'],\n",
    "                                            analysis_path=_analysis_path,\n",
    "                                            symlink_dir=method_ref_dir,\n",
    "                                            clobber=plan['bin_clobber'])\n",
    "\n",
    "    #---------------------------------------------------------------\n",
    "    # Stellar Continuum Fit\n",
    "    stellar_continuum = StellarContinuumModel(plan['continuum_key'], binned_spectra,\n",
    "                                              guess_vel=obs['vel'], guess_sig=obs['vdisp'],\n",
    "                                              analysis_path=_analysis_path,\n",
    "                                              tpl_symlink_dir=method_ref_dir,\n",
    "                                              clobber=plan['continuum_clobber'])\n",
    "\n",
    "    #---------------------------------------------------------------\n",
    "    # Emission-line Moment measurements\n",
    "    emission_line_moments = EmissionLineMoments(plan['elmom_key'], binned_spectra,\n",
    "                                                stellar_continuum=stellar_continuum,\n",
    "                                                redshift=nsa_redshift,\n",
    "                                                analysis_path=_analysis_path,\n",
    "                                                clobber=plan['elmom_clobber'])\n",
    "\n",
    "    #---------------------------------------------------------------\n",
    "    # Emission-line Fit\n",
    "    emission_line_model = EmissionLineModel(plan['elfit_key'], binned_spectra,\n",
    "                                            stellar_continuum=stellar_continuum,\n",
    "                                            emission_line_moments=emission_line_moments,\n",
    "                                            dispersion=100.0,\n",
    "                                            minimum_error=numpy.finfo(numpy.float32).eps,\n",
    "                                            analysis_path=_analysis_path,\n",
    "                                            clobber=plan['elfit_clobber'])\n",
    "\n",
    "    #---------------------------------------------------------------\n",
    "    # If requested by the emission-line moments method, remeasure\n",
    "    # the moments after the emission-line modeling.  This will\n",
    "    # produce a new reference file that will have a different name\n",
    "    # than the one produced above.\n",
    "    if emission_line_moments.database['redo_postmodeling']:\n",
    "        emission_line_moments.measure(binned_spectra, stellar_continuum=stellar_continuum,\n",
    "                                      emission_line_model=emission_line_model,\n",
    "                                      analysis_path=_analysis_path,\n",
    "                                      clobber=plan['elmom_clobber'])\n",
    "\n",
    "    #---------------------------------------------------------------\n",
    "    # Spectral-Index Measurements\n",
    "    spectral_indices = SpectralIndices(plan['spindex_key'], binned_spectra,\n",
    "                                       redshift=nsa_redshift,\n",
    "                                       stellar_continuum=stellar_continuum,\n",
    "                                       emission_line_model=emission_line_model,\n",
    "                                       analysis_path=_analysis_path,\n",
    "                                       tpl_symlink_dir=method_ref_dir,\n",
    "                                       clobber=plan['spindex_clobber'])\n",
    "\n",
    "    #-------------------------------------------------------------------\n",
    "    # Construct the main output files\n",
    "    construct_maps_file(drpf, obs=obs, rdxqa=rdxqa, binned_spectra=binned_spectra,\n",
    "                        stellar_continuum=stellar_continuum,\n",
    "                        emission_line_moments=emission_line_moments,\n",
    "                        emission_line_model=emission_line_model,\n",
    "                        spectral_indices=spectral_indices, nsa_redshift=nsa_redshift,\n",
    "                        analysis_path=_analysis_path, clobber=True, single_precision=True)\n",
    "\n",
    "    construct_cube_file(drpf, obs=obs, binned_spectra=binned_spectra,\n",
    "                        stellar_continuum=stellar_continuum,\n",
    "                        emission_line_model=emission_line_model,\n",
    "                        analysis_path=_analysis_path, clobber=True, single_precision=True)\n"
   ]
  },
  {
   "cell_type": "code",
   "execution_count": 8,
   "metadata": {},
   "outputs": [
    {
     "name": "stderr",
     "output_type": "stream",
     "text": [
      "WARNING  ::   UserWarning: Provided ellipticity different from available file; set clobber=True to overwrite.\n"
     ]
    },
    {
     "name": "stdout",
     "output_type": "stream",
     "text": [
      "--------------------------------------------------\n",
      "        REDUCTION ASSESSMENT COMPUTATIONS         \n",
      "--------------------------------------------------\n",
      "Output path: ./output/common/7815/3702\n",
      "Output file: manga-7815-3702-SNRG.fits.gz\n",
      "Reading exiting file\n",
      "Read covariance cube:\n",
      "       output type: Correlation\n",
      "        dimensions: 2\n",
      "             shape: (1764, 1764)\n",
      "   non-zero values: 32314\n",
      "--------------------------------------------------\n",
      "--------------------------------------------------\n",
      "            SPATIALLY BINNING SPECTRA             \n",
      "--------------------------------------------------\n",
      "Total spectra: 1764\n",
      "With 80% spectral coverage: 773\n",
      "With good S/N: 839\n",
      "Number of good spectra: 773\n",
      "Galactic extinction law: ODonnell\n",
      "Galactic E(B-V) = 0.101375\n",
      "Galactic R(V): 3.1\n",
      "Output path: ./output/common/7815/3702\n",
      "Output file: manga-7815-3702-SNRG-HYB10.fits.gz\n",
      "Reading existing file\n"
     ]
    },
    {
     "name": "stderr",
     "output_type": "stream",
     "text": [
      "WARNING  ::   UserWarning: Fewer unique channels than all available.\n",
      "WARNING  ::   UserWarning: Unable to find/read covariance data.\n"
     ]
    },
    {
     "name": "stdout",
     "output_type": "stream",
     "text": [
      "Read covariance cube:\n",
      "       output type: Correlation\n",
      "        dimensions: 3\n",
      "             shape: (497, 497, 11)\n",
      "    pseudo-indices:  [   0  456  912 1368 1824 2281 2737 3193 3649 4105]\n",
      "   non-zero values: 183735\n",
      "Input covariance matrix (or elements) must be csr_matrices.\n",
      "--------------------------------------------------\n",
      "--------------------------------------------------\n",
      "            STELLAR CONTINUUM FITTING             \n",
      "--------------------------------------------------\n",
      "Number of binned spectra: 497\n",
      "With good S/N and to fit: 497\n",
      "Determining initial guess kinematics\n",
      "Instantiating template library...\n",
      "--------------------------------------------------\n",
      "Template library output path: ./output/common/7815/3702\n",
      "Template library output file: manga-7815-3702-MILESHC.fits.gz\n",
      "Found 42 MILESHC templates\n",
      "Maximum number of wavelength channels: 4300\n",
      "Attempting to build raw data ...\n",
      "... done\n",
      "Matching sampling ... \n",
      "... done\n",
      "After resampling (target): 2.4999999999999998e-05\n",
      "After resampling (calculated): 2.499999999999995e-05\n",
      "--------------------------------------------------\n",
      "Output path: ./output/HYB10-GAU-MILESHC/7815/3702/ref\n",
      "Output file: manga-7815-3702-SNRG-HYB10-GAU-MILESHC.fits.gz\n",
      "Using existing file\n"
     ]
    },
    {
     "name": "stderr",
     "output_type": "stream",
     "text": [
      "WARNING  ::   UserWarning: Input header does not specify filtering boxcar.\n",
      "WARNING  ::   UserWarning: Input header does not specify number of filtering iterations.\n",
      "WARNING  ::   UserWarning: Bands with negative wavelengths are used to insert dummy values.  Ignoring input bands with indices: [2]\n"
     ]
    },
    {
     "name": "stdout",
     "output_type": "stream",
     "text": [
      "--------------------------------------------------\n",
      "--------------------------------------------------\n",
      "              EMISSION-LINE MOMENTS               \n",
      "--------------------------------------------------\n",
      "--------------------------------------------------\n",
      "Measurements for binned spectra\n",
      "Using stellar continuum from stellar-continuum model fit.\n",
      "Number of spectra: 497\n",
      "With good S/N and to measure: 497\n",
      "Output path: ./output/HYB10-GAU-MILESHC/7815/3702/ref\n",
      "Output file: manga-7815-3702-SNRG-HYB10-GAU-MILESHC-EMOMM.fits.gz\n",
      "Using existing file\n",
      "--------------------------------------------------\n",
      "--------------------------------------------------\n",
      "          EMISSION-LINE PROFILE FITTING           \n",
      "--------------------------------------------------\n",
      "Number of binned spectra: 497\n",
      "With good S/N and to fit: 497\n",
      "Bins deconstructed in fitting: True\n",
      "Output path: ./output/HYB10-GAU-MILESHC/7815/3702/ref\n",
      "Output file: manga-7815-3702-SNRG-HYB10-GAU-MILESHC-EFITMDB.fits.gz\n",
      "Using existing file\n"
     ]
    },
    {
     "name": "stderr",
     "output_type": "stream",
     "text": [
      "WARNING  ::   UserWarning: Fit parameter object does not have a fromheader attribute.  No parameters head from header.\n",
      "WARNING  ::   FITSFixedWarning: PLATEID = 7815 / Current plate \n",
      "a string value was expected.\n",
      "WARNING  ::   FITSFixedWarning: PLATEID = 7815 / Current plate \n",
      "a string value was expected.\n"
     ]
    },
    {
     "name": "stdout",
     "output_type": "stream",
     "text": [
      "--------------------------------------------------\n",
      "--------------------------------------------------\n",
      "              EMISSION-LINE MOMENTS               \n",
      "--------------------------------------------------\n",
      "--------------------------------------------------\n",
      "Measurements for unbinned spaxels\n",
      "Using stellar continuum from emission-line model fit.\n",
      "Number of spectra: 1764\n",
      "With good S/N and to measure: 773\n",
      "Output path: ./output/HYB10-GAU-MILESHC/7815/3702/ref\n",
      "Output file: manga-7815-3702-SNRG-HYB10-GAU-MILESHC-EFITMDB-EMOMM.fits.gz\n",
      "Using existing file\n",
      "--------------------------------------------------\n",
      "--------------------------------------------------\n",
      "           SPECTRAL-INDEX MEASUREMENTS            \n",
      "--------------------------------------------------\n",
      "Measurements for unbinned spaxels\n",
      "Number of spectra: 1764\n",
      "With good S/N and to measure: 773\n",
      "Output path: ./output/HYB10-GAU-MILESHC/7815/3702/ref\n",
      "Output file: manga-7815-3702-SNRG-HYB10-GAU-MILESHC-EFITMDB-INDXEN.fits.gz\n",
      "Using existing file\n",
      "--------------------------------------------------\n",
      "--------------------------------------------------\n",
      "             CONSTRUCTING OUTPUT MAPS             \n",
      "--------------------------------------------------\n",
      "Output path: ./output/HYB10-GAU-MILESHC/7815/3702\n",
      "Output file: manga-7815-3702-MAPS-HYB10-GAU-MILESHC.fits.gz\n",
      "Output maps have shape (42, 42)\n",
      "NSA redshift: 0.029382300000000004\n"
     ]
    },
    {
     "name": "stderr",
     "output_type": "stream",
     "text": [
      "WARNING  ::   FITSFixedWarning: PLATEID = 7815 / Current plate \n",
      "a string value was expected.\n",
      "WARNING  ::   UserWarning: Fit parameter class has no toheader() function.  No parameters written to header.\n",
      "WARNING  ::   UserWarning: Fit parameter class has no toheader() function.  No parameters written to header.\n",
      "WARNING  ::   UserWarning: Attempting to use RSS counter-part for calculation.\n"
     ]
    },
    {
     "name": "stdout",
     "output_type": "stream",
     "text": [
      "Transfer Matrix Done                     \n"
     ]
    },
    {
     "name": "stderr",
     "output_type": "stream",
     "text": [
      "WARNING  ::   UserWarning: Attempting to use RSS counter-part for calculation.\n"
     ]
    },
    {
     "name": "stdout",
     "output_type": "stream",
     "text": [
      "Transfer Matrix Done                     \n"
     ]
    },
    {
     "name": "stderr",
     "output_type": "stream",
     "text": [
      "WARNING  ::   UserWarning: Attempting to use RSS counter-part for calculation.\n"
     ]
    },
    {
     "name": "stdout",
     "output_type": "stream",
     "text": [
      "Transfer Matrix Done                     \n"
     ]
    },
    {
     "name": "stderr",
     "output_type": "stream",
     "text": [
      "WARNING  ::   UserWarning: Attempting to use RSS counter-part for calculation.\n"
     ]
    },
    {
     "name": "stdout",
     "output_type": "stream",
     "text": [
      "Transfer Matrix Done                     \n",
      "Writing: ./output/HYB10-GAU-MILESHC/7815/3702/manga-7815-3702-MAPS-HYB10-GAU-MILESHC.fits\n",
      "Compressing: ./output/HYB10-GAU-MILESHC/7815/3702/manga-7815-3702-MAPS-HYB10-GAU-MILESHC.fits.gz\n",
      "--------------------------------------------------\n",
      "--------------------------------------------------\n",
      "          CONSTRUCTING OUTPUT MODEL CUBE          \n",
      "--------------------------------------------------\n",
      "Output path: ./output/HYB10-GAU-MILESHC/7815/3702\n",
      "Output file: manga-7815-3702-LOGCUBE-HYB10-GAU-MILESHC.fits.gz\n",
      "Output cubes have shape (42, 42, 4563)\n",
      "Constructing binned spectra datacube ...\n"
     ]
    },
    {
     "name": "stderr",
     "output_type": "stream",
     "text": [
      "WARNING  ::   FITSFixedWarning: PLATEID = 7815 / Current plate \n",
      "a string value was expected.\n",
      "WARNING  ::   FITSFixedWarning: PLATEID = 7815 / Current plate \n",
      "a string value was expected.\n"
     ]
    },
    {
     "name": "stdout",
     "output_type": "stream",
     "text": [
      "Constructing stellar continuum datacube ...\n",
      "Constructing emission-line model datacube ...\n"
     ]
    },
    {
     "name": "stderr",
     "output_type": "stream",
     "text": [
      "WARNING  ::   FITSFixedWarning: PLATEID = 7815 / Current plate \n",
      "a string value was expected.\n",
      "WARNING  ::   FITSFixedWarning: PLATEID = 7815 / Current plate \n",
      "a string value was expected.\n",
      "WARNING  ::   UserWarning: Fit parameter class has no toheader() function.  No parameters written to header.\n",
      "WARNING  ::   UserWarning: Fit parameter class has no toheader() function.  No parameters written to header.\n",
      "WARNING  ::   FITSFixedWarning: PLATEID = 7815 / Current plate \n",
      "a string value was expected.\n"
     ]
    },
    {
     "name": "stdout",
     "output_type": "stream",
     "text": [
      "Writing: ./output/HYB10-GAU-MILESHC/7815/3702/manga-7815-3702-LOGCUBE-HYB10-GAU-MILESHC.fits\n",
      "Compressing: ./output/HYB10-GAU-MILESHC/7815/3702/manga-7815-3702-LOGCUBE-HYB10-GAU-MILESHC.fits.gz\n",
      "--------------------------------------------------\n"
     ]
    }
   ],
   "source": [
    "fit_one_cube_explicit(7815, 3702, drpall_file='./data/drpall-v2_4_3.fits',\n",
    "                      directory_path='./data', analysis_path='./output')"
   ]
  },
  {
   "cell_type": "markdown",
   "metadata": {},
   "source": [
    "# Performing a subset of the analysis\n",
    "\n",
    "If you only want to execute some subset of the analysis steps, than you can set the relevant analysis keyword to `None` in the `AnalysisPlan` that's constructed in `fit_one_cube` or just set the relevant object to `None` in `fit_one_cube_explicit`.\n",
    "\n",
    "**WARNING**: \n",
    " - This currently doesn't work as it should because I haven't debugged this functionality much.  I think the only step that you can effectively skip is the spectral index measurements.\n",
    " - The instantiation of the classes use keyword arguments for optional input, and positional arguments for required arguments.  But it's best if you think of the 6 wrapper classes as being executed in sequence."
   ]
  },
  {
   "cell_type": "code",
   "execution_count": 12,
   "metadata": {},
   "outputs": [],
   "source": [
    "def fit_one_cube_only_stellar_kinematics(plt, ifu, drpall_file=None, directory_path=None,\n",
    "                                         analysis_path=None):\n",
    "    \n",
    "    # Grab the required input parameters\n",
    "    obs = get_obsinput(plt, ifu, drpall_file=drpall_file)\n",
    "    \n",
    "    plan = AnalysisPlan(drpqa_key='SNRG', bin_key='HYB10', continuum_key='GAU-MILESHC',\n",
    "                        elmom_key='EMOMM', elfit_key='EFITMDB', spindex_key='INDXEN')\n",
    "\n",
    "    # Set the the analysis path and make sure it exists\n",
    "    _analysis_path = defaults.default_analysis_path() \\\n",
    "                        if analysis_path is None else analysis_path\n",
    "    if not os.path.isdir(_analysis_path):\n",
    "        os.makedirs(_analysis_path)\n",
    "\n",
    "    # Set the nsa redshift\n",
    "    nsa_redshift = obs['vel']/astropy.constants.c.to('km/s').value\n",
    "\n",
    "    # Define the analysis method and the output directories\n",
    "    method = defaults.default_dap_method(plan=plan)\n",
    "    method_dir = defaults.default_dap_method_path(method, plate=obs['plate'],\n",
    "                                                  ifudesign=obs['ifudesign'],\n",
    "                                                  analysis_path=_analysis_path)\n",
    "    method_ref_dir = defaults.default_dap_method_path(method, plate=obs['plate'],\n",
    "                                                      ifudesign=obs['ifudesign'], ref=True,\n",
    "                                                      analysis_path=_analysis_path)\n",
    "\n",
    "    #-------------------------------------------------------------------\n",
    "    # Read the DRP file\n",
    "    drpf = DRPFits(obs['plate'], obs['ifudesign'], obs['mode'], \n",
    "                   directory_path=directory_path, read=True)\n",
    "\n",
    "    # Test if the RSS file exists\n",
    "    drpf_rss = DRPFits(obs['plate'], obs['ifudesign'], 'RSS', directory_path=directory_path,\n",
    "                       read=False)\n",
    "    if not os.path.isfile(drpf_rss.file_path()):\n",
    "        warnings.warn('RSS counterpart not available.  Some functionality may be limited!')\n",
    "    del drpf_rss\n",
    "\n",
    "    #---------------------------------------------------------------\n",
    "    # S/N Assessments\n",
    "    rdxqa = ReductionAssessment(plan['drpqa_key'], drpf, pa=obs['pa'], ell=obs['ell'],\n",
    "                                analysis_path=_analysis_path, symlink_dir=method_ref_dir,\n",
    "                                clobber=plan['drpqa_clobber'])\n",
    "\n",
    "    #---------------------------------------------------------------\n",
    "    # Spatial Binning\n",
    "    binned_spectra = SpatiallyBinnedSpectra(plan['bin_key'], drpf, rdxqa, reff=obs['reff'],\n",
    "                                            analysis_path=_analysis_path,\n",
    "                                            symlink_dir=method_ref_dir,\n",
    "                                            clobber=plan['bin_clobber'])\n",
    "\n",
    "    #---------------------------------------------------------------\n",
    "    # Stellar Continuum Fit\n",
    "    stellar_continuum = StellarContinuumModel(plan['continuum_key'], binned_spectra,\n",
    "                                              guess_vel=obs['vel'], guess_sig=obs['vdisp'],\n",
    "                                              analysis_path=_analysis_path,\n",
    "                                              tpl_symlink_dir=method_ref_dir,\n",
    "                                              clobber=plan['continuum_clobber'])\n",
    "    \n",
    "    #-------------------------------------------------------------------\n",
    "    # Construct the main output files\n",
    "    construct_maps_file(drpf, obs=obs, rdxqa=rdxqa, binned_spectra=binned_spectra,\n",
    "                        stellar_continuum=stellar_continuum, nsa_redshift=nsa_redshift,\n",
    "                        analysis_path=_analysis_path, clobber=True, single_precision=True)\n",
    "\n",
    "#    construct_cube_file(drpf, obs=obs, binned_spectra=binned_spectra,\n",
    "#                        stellar_continuum=stellar_continuum,\n",
    "#                        analysis_path=_analysis_path, clobber=True, single_precision=True)\n"
   ]
  },
  {
   "cell_type": "code",
   "execution_count": 13,
   "metadata": {},
   "outputs": [
    {
     "name": "stderr",
     "output_type": "stream",
     "text": [
      "WARNING  ::   UserWarning: Provided ellipticity different from available file; set clobber=True to overwrite.\n"
     ]
    },
    {
     "name": "stdout",
     "output_type": "stream",
     "text": [
      "--------------------------------------------------\n",
      "        REDUCTION ASSESSMENT COMPUTATIONS         \n",
      "--------------------------------------------------\n",
      "Output path: ./output/common/7815/3702\n",
      "Output file: manga-7815-3702-SNRG.fits.gz\n",
      "Reading exiting file\n",
      "Read covariance cube:\n",
      "       output type: Correlation\n",
      "        dimensions: 2\n",
      "             shape: (1764, 1764)\n",
      "   non-zero values: 32314\n",
      "--------------------------------------------------\n",
      "--------------------------------------------------\n",
      "            SPATIALLY BINNING SPECTRA             \n",
      "--------------------------------------------------\n",
      "Total spectra: 1764\n",
      "With 80% spectral coverage: 773\n",
      "With good S/N: 839\n",
      "Number of good spectra: 773\n",
      "Galactic extinction law: ODonnell\n",
      "Galactic E(B-V) = 0.101375\n",
      "Galactic R(V): 3.1\n",
      "Output path: ./output/common/7815/3702\n",
      "Output file: manga-7815-3702-SNRG-HYB10.fits.gz\n",
      "Reading existing file\n"
     ]
    },
    {
     "name": "stderr",
     "output_type": "stream",
     "text": [
      "WARNING  ::   UserWarning: Fewer unique channels than all available.\n",
      "WARNING  ::   UserWarning: Unable to find/read covariance data.\n"
     ]
    },
    {
     "name": "stdout",
     "output_type": "stream",
     "text": [
      "Read covariance cube:\n",
      "       output type: Correlation\n",
      "        dimensions: 3\n",
      "             shape: (497, 497, 11)\n",
      "    pseudo-indices:  [   0  456  912 1368 1824 2281 2737 3193 3649 4105]\n",
      "   non-zero values: 183735\n",
      "Input covariance matrix (or elements) must be csr_matrices.\n",
      "--------------------------------------------------\n",
      "--------------------------------------------------\n",
      "            STELLAR CONTINUUM FITTING             \n",
      "--------------------------------------------------\n",
      "Number of binned spectra: 497\n",
      "With good S/N and to fit: 497\n",
      "Determining initial guess kinematics\n",
      "Instantiating template library...\n",
      "--------------------------------------------------\n",
      "Template library output path: ./output/common/7815/3702\n",
      "Template library output file: manga-7815-3702-MILESHC.fits.gz\n",
      "Found 42 MILESHC templates\n",
      "Maximum number of wavelength channels: 4300\n",
      "Attempting to build raw data ...\n",
      "... done\n",
      "Matching sampling ... \n",
      "... done\n",
      "After resampling (target): 2.4999999999999998e-05\n",
      "After resampling (calculated): 2.499999999999995e-05\n",
      "--------------------------------------------------\n",
      "Output path: ./output/HYB10-GAU-MILESHC/7815/3702/ref\n",
      "Output file: manga-7815-3702-SNRG-HYB10-GAU-MILESHC.fits.gz\n",
      "Using existing file\n"
     ]
    },
    {
     "name": "stderr",
     "output_type": "stream",
     "text": [
      "WARNING  ::   UserWarning: Input header does not specify filtering boxcar.\n",
      "WARNING  ::   UserWarning: Input header does not specify number of filtering iterations.\n",
      "WARNING  ::   FITSFixedWarning: PLATEID = 7815 / Current plate \n",
      "a string value was expected.\n",
      "WARNING  ::   FITSFixedWarning: PLATEID = 7815 / Current plate \n",
      "a string value was expected.\n",
      "WARNING  ::   FITSFixedWarning: PLATEID = 7815 / Current plate \n",
      "a string value was expected.\n",
      "WARNING  ::   UserWarning: Fit parameter class has no toheader() function.  No parameters written to header.\n"
     ]
    },
    {
     "name": "stdout",
     "output_type": "stream",
     "text": [
      "--------------------------------------------------\n",
      "--------------------------------------------------\n",
      "             CONSTRUCTING OUTPUT MAPS             \n",
      "--------------------------------------------------\n",
      "Output path: ./output/HYB10-GAU-MILESHC/7815/3702\n",
      "Output file: manga-7815-3702-MAPS-HYB10-GAU-MILESHC.fits.gz\n",
      "Output maps have shape (42, 42)\n",
      "NSA redshift: 0.029382300000000004\n"
     ]
    },
    {
     "name": "stderr",
     "output_type": "stream",
     "text": [
      "WARNING  ::   UserWarning: Attempting to use RSS counter-part for calculation.\n"
     ]
    },
    {
     "name": "stdout",
     "output_type": "stream",
     "text": [
      "Transfer Matrix Done                     \n"
     ]
    },
    {
     "name": "stderr",
     "output_type": "stream",
     "text": [
      "WARNING  ::   UserWarning: Attempting to use RSS counter-part for calculation.\n"
     ]
    },
    {
     "name": "stdout",
     "output_type": "stream",
     "text": [
      "Transfer Matrix Done                     \n"
     ]
    },
    {
     "name": "stderr",
     "output_type": "stream",
     "text": [
      "WARNING  ::   UserWarning: Attempting to use RSS counter-part for calculation.\n"
     ]
    },
    {
     "name": "stdout",
     "output_type": "stream",
     "text": [
      "Transfer Matrix Done                     \n"
     ]
    },
    {
     "name": "stderr",
     "output_type": "stream",
     "text": [
      "WARNING  ::   UserWarning: Attempting to use RSS counter-part for calculation.\n"
     ]
    },
    {
     "name": "stdout",
     "output_type": "stream",
     "text": [
      "Transfer Matrix Done                     \n"
     ]
    },
    {
     "ename": "TypeError",
     "evalue": "unsupported operand type(s) for &: 'NoneType' and 'int'",
     "output_type": "error",
     "traceback": [
      "\u001b[0;31m---------------------------------------------------------------------------\u001b[0m",
      "\u001b[0;31mTypeError\u001b[0m                                 Traceback (most recent call last)",
      "\u001b[0;32m<ipython-input-13-58bb6072d2e0>\u001b[0m in \u001b[0;36m<module>\u001b[0;34m()\u001b[0m\n\u001b[1;32m      1\u001b[0m fit_one_cube_only_stellar_kinematics(7815, 3702, drpall_file='./data/drpall-v2_4_3.fits',\n\u001b[0;32m----> 2\u001b[0;31m                                      directory_path='./data', analysis_path='./output')\n\u001b[0m",
      "\u001b[0;32m<ipython-input-12-7e059f2bb7a9>\u001b[0m in \u001b[0;36mfit_one_cube_only_stellar_kinematics\u001b[0;34m(plt, ifu, drpall_file, directory_path, analysis_path)\u001b[0m\n\u001b[1;32m     62\u001b[0m     construct_maps_file(drpf, obs=obs, rdxqa=rdxqa, binned_spectra=binned_spectra,\n\u001b[1;32m     63\u001b[0m                         \u001b[0mstellar_continuum\u001b[0m\u001b[0;34m=\u001b[0m\u001b[0mstellar_continuum\u001b[0m\u001b[0;34m,\u001b[0m \u001b[0mnsa_redshift\u001b[0m\u001b[0;34m=\u001b[0m\u001b[0mnsa_redshift\u001b[0m\u001b[0;34m,\u001b[0m\u001b[0;34m\u001b[0m\u001b[0m\n\u001b[0;32m---> 64\u001b[0;31m                         analysis_path=_analysis_path, clobber=True, single_precision=True)\n\u001b[0m\u001b[1;32m     65\u001b[0m \u001b[0;34m\u001b[0m\u001b[0m\n\u001b[1;32m     66\u001b[0m \u001b[0;31m#    construct_cube_file(drpf, obs=obs, binned_spectra=binned_spectra,\u001b[0m\u001b[0;34m\u001b[0m\u001b[0;34m\u001b[0m\u001b[0m\n",
      "\u001b[0;32m~/Work/MaNGA/dap/repo/mangadap/python/mangadap/dapfits.py\u001b[0m in \u001b[0;36m__init__\u001b[0;34m(self, drpf, obs, rdxqa, binned_spectra, stellar_continuum, emission_line_moments, emission_line_model, spectral_indices, nsa_redshift, dapsrc, dapver, analysis_path, directory_path, output_file, clobber, loggers, quiet, single_precision)\u001b[0m\n\u001b[1;32m    810\u001b[0m                 'EMLINE_GFLUX', 'EMLINE_GEW', 'EMLINE_GVEL', 'EMLINE_GSIGMA', 'SPECINDEX' ]\n\u001b[1;32m    811\u001b[0m         \u001b[0;32mfor\u001b[0m \u001b[0me\u001b[0m \u001b[0;32min\u001b[0m \u001b[0mext\u001b[0m\u001b[0;34m:\u001b[0m\u001b[0;34m\u001b[0m\u001b[0m\n\u001b[0;32m--> 812\u001b[0;31m             \u001b[0mindx\u001b[0m \u001b[0;34m=\u001b[0m \u001b[0mnumpy\u001b[0m\u001b[0;34m.\u001b[0m\u001b[0minvert\u001b[0m\u001b[0;34m(\u001b[0m\u001b[0mself\u001b[0m\u001b[0;34m.\u001b[0m\u001b[0mbitmask\u001b[0m\u001b[0;34m.\u001b[0m\u001b[0mflagged\u001b[0m\u001b[0;34m(\u001b[0m\u001b[0mself\u001b[0m\u001b[0;34m.\u001b[0m\u001b[0mhdu\u001b[0m\u001b[0;34m[\u001b[0m\u001b[0;34m'{0}_MASK'\u001b[0m\u001b[0;34m.\u001b[0m\u001b[0mformat\u001b[0m\u001b[0;34m(\u001b[0m\u001b[0me\u001b[0m\u001b[0;34m)\u001b[0m\u001b[0;34m]\u001b[0m\u001b[0;34m.\u001b[0m\u001b[0mdata\u001b[0m\u001b[0;34m)\u001b[0m\u001b[0;34m)\u001b[0m\u001b[0;31m \u001b[0m\u001b[0;31m\\\u001b[0m\u001b[0;34m\u001b[0m\u001b[0m\n\u001b[0m\u001b[1;32m    813\u001b[0m                             \u001b[0;34m&\u001b[0m \u001b[0mnumpy\u001b[0m\u001b[0;34m.\u001b[0m\u001b[0minvert\u001b[0m\u001b[0;34m(\u001b[0m\u001b[0mself\u001b[0m\u001b[0;34m.\u001b[0m\u001b[0mhdu\u001b[0m\u001b[0;34m[\u001b[0m\u001b[0;34m'{0}_IVAR'\u001b[0m\u001b[0;34m.\u001b[0m\u001b[0mformat\u001b[0m\u001b[0;34m(\u001b[0m\u001b[0me\u001b[0m\u001b[0;34m)\u001b[0m\u001b[0;34m]\u001b[0m\u001b[0;34m.\u001b[0m\u001b[0mdata\u001b[0m \u001b[0;34m>\u001b[0m \u001b[0;36m0\u001b[0m\u001b[0;34m)\u001b[0m\u001b[0;34m\u001b[0m\u001b[0m\n\u001b[1;32m    814\u001b[0m             \u001b[0;32mif\u001b[0m \u001b[0mnumpy\u001b[0m\u001b[0;34m.\u001b[0m\u001b[0msum\u001b[0m\u001b[0;34m(\u001b[0m\u001b[0mindx\u001b[0m\u001b[0;34m)\u001b[0m \u001b[0;34m>\u001b[0m \u001b[0;36m0\u001b[0m\u001b[0;34m:\u001b[0m\u001b[0;34m\u001b[0m\u001b[0m\n",
      "\u001b[0;32m~/Work/MaNGA/dap/repo/mangadap/python/mangadap/util/bitmask.py\u001b[0m in \u001b[0;36mflagged\u001b[0;34m(self, value, flag)\u001b[0m\n\u001b[1;32m    474\u001b[0m             \u001b[0;32mif\u001b[0m \u001b[0;32mnot\u001b[0m \u001b[0mall\u001b[0m\u001b[0;34m(\u001b[0m\u001b[0;34m[\u001b[0m \u001b[0misinstance\u001b[0m\u001b[0;34m(\u001b[0m\u001b[0mf\u001b[0m\u001b[0;34m,\u001b[0m \u001b[0mstr\u001b[0m\u001b[0;34m)\u001b[0m \u001b[0;32mfor\u001b[0m \u001b[0mf\u001b[0m \u001b[0;32min\u001b[0m \u001b[0mflag\u001b[0m \u001b[0;34m]\u001b[0m\u001b[0;34m)\u001b[0m\u001b[0;34m:\u001b[0m\u001b[0;34m\u001b[0m\u001b[0m\n\u001b[1;32m    475\u001b[0m                 \u001b[0;32mraise\u001b[0m \u001b[0mTypeError\u001b[0m\u001b[0;34m(\u001b[0m\u001b[0;34m'Provided bit names must be strings!'\u001b[0m\u001b[0;34m)\u001b[0m\u001b[0;34m\u001b[0m\u001b[0m\n\u001b[0;32m--> 476\u001b[0;31m             \u001b[0mout\u001b[0m \u001b[0;34m=\u001b[0m \u001b[0mvalue\u001b[0m \u001b[0;34m&\u001b[0m \u001b[0;34m(\u001b[0m\u001b[0;36m1\u001b[0m \u001b[0;34m<<\u001b[0m \u001b[0mself\u001b[0m\u001b[0;34m.\u001b[0m\u001b[0mbits\u001b[0m\u001b[0;34m[\u001b[0m\u001b[0mflag\u001b[0m\u001b[0;34m[\u001b[0m\u001b[0;36m0\u001b[0m\u001b[0;34m]\u001b[0m\u001b[0;34m]\u001b[0m\u001b[0;34m)\u001b[0m \u001b[0;34m!=\u001b[0m \u001b[0;36m0\u001b[0m\u001b[0;34m\u001b[0m\u001b[0m\n\u001b[0m\u001b[1;32m    477\u001b[0m             \u001b[0mnn\u001b[0m \u001b[0;34m=\u001b[0m \u001b[0mlen\u001b[0m\u001b[0;34m(\u001b[0m\u001b[0mflag\u001b[0m\u001b[0;34m)\u001b[0m\u001b[0;34m\u001b[0m\u001b[0m\n\u001b[1;32m    478\u001b[0m             \u001b[0;32mfor\u001b[0m \u001b[0mi\u001b[0m \u001b[0;32min\u001b[0m \u001b[0mrange\u001b[0m\u001b[0;34m(\u001b[0m\u001b[0;36m1\u001b[0m\u001b[0;34m,\u001b[0m\u001b[0mnn\u001b[0m\u001b[0;34m)\u001b[0m\u001b[0;34m:\u001b[0m\u001b[0;34m\u001b[0m\u001b[0m\n",
      "\u001b[0;31mTypeError\u001b[0m: unsupported operand type(s) for &: 'NoneType' and 'int'"
     ]
    }
   ],
   "source": [
    "fit_one_cube_only_stellar_kinematics(7815, 3702, drpall_file='./data/drpall-v2_4_3.fits',\n",
    "                                     directory_path='./data', analysis_path='./output')"
   ]
  },
  {
   "cell_type": "markdown",
   "metadata": {},
   "source": [
    "# Changing the analysis methodology\n",
    "\n",
    "Each wrapper class has an associated set of parameters that define how the data is analyzed, with object names like `StellarContinuumModelDef` for the `StellarContinuumModel` class.  Each instance of the definition has an associated, *unique* keyword.  These keywords are how the DAP specifies how to analyze the data and are used to construct the name of the output reference file.  The set of keywords for each of the wrapper classes is what defines an `AnalysisPlan`.  The DAP comes with a set of pre-defined analysis approaches that you can see using a set of `available_*` functions.  We can find the available reduction assessment approaches like this."
   ]
  },
  {
   "cell_type": "code",
   "execution_count": 15,
   "metadata": {},
   "outputs": [
    {
     "name": "stdout",
     "output_type": "stream",
     "text": [
      "There are 7 predefined methods: ['GAU-BC03', 'GAU-CKC', 'GAU-CKCL', 'GAU-M11-MARCS', 'GAU-M11-MILES', 'GAU-MILESHC', 'GAU-MIUSCAT-THIN']\n"
     ]
    }
   ],
   "source": [
    "from mangadap.proc.stellarcontinuummodel import available_stellar_continuum_modeling_methods\n",
    "sc_methods = available_stellar_continuum_modeling_methods()\n",
    "sc_method_keys = [ sc['key'] for sc in sc_methods ]\n",
    "print('There are {0} predefined methods: {1}'.format(len(sc_methods), sc_method_keys))"
   ]
  },
  {
   "cell_type": "markdown",
   "metadata": {},
   "source": [
    "Some parameter definition classes are straight-forward to define.  You can think of them as fancy dictionaries.  Others are combinations of multiple parameter sets, each of which is its own fancy dictionary.  The `StellarContinuumModelDef` class is one of the latter.  The primary keys of the defining class is short:"
   ]
  },
  {
   "cell_type": "code",
   "execution_count": 16,
   "metadata": {},
   "outputs": [
    {
     "name": "stdout",
     "output_type": "stream",
     "text": [
      "key\n",
      "minimum_snr\n",
      "fit_type\n",
      "fitpar\n",
      "fitclass\n",
      "fitfunc\n"
     ]
    }
   ],
   "source": [
    "example_sc_method = sc_methods[5]\n",
    "for k in example_sc_method.keys():\n",
    "    print('{0}'.format(k))"
   ]
  },
  {
   "cell_type": "markdown",
   "metadata": {},
   "source": [
    "But `example_sc_method['fitpar']` is itself a parameter set for, in this case, the ppxf-fitting class, `PPXFFit`.  Its keyword are:"
   ]
  },
  {
   "cell_type": "code",
   "execution_count": 17,
   "metadata": {},
   "outputs": [
    {
     "name": "stdout",
     "output_type": "stream",
     "text": [
      "template_library_key\n",
      "template_library\n",
      "guess_redshift\n",
      "guess_dispersion\n",
      "iteration_mode\n",
      "reject_boxcar\n",
      "filter_boxcar\n",
      "filter_operation\n",
      "filter_iterations\n",
      "match_resolution\n",
      "velscale_ratio\n",
      "minimum_snr\n",
      "pixelmask\n",
      "bias\n",
      "degree\n",
      "mdegree\n",
      "filt_degree\n",
      "filt_mdegree\n",
      "moments\n"
     ]
    }
   ],
   "source": [
    "for k in sc_methods[0]['fitpar'].keys():\n",
    "    print('{0}'.format(k))"
   ]
  },
  {
   "cell_type": "markdown",
   "metadata": {},
   "source": [
    "The easiest way to define a new fitting approach are using the config files.  The configuration files are held in the `python/mangadap/config` directory for each of the different fitting steps, which are held in a set of subdirectories.  The `ini` file for the stellar continuum fitting (`python/mangadap/config/stellar_continuum_modeling/gau_mileshc.ini`) used in MPL-7 looks like this:\n",
    "\n",
    "```\n",
    "[default]\n",
    " key                    = GAU-MILESHC\n",
    " fit_type               = stellar_kinematics\n",
    " fit_method             = ppxf\n",
    " fit_iter               = nonzero_templates\n",
    " reject_boxcar          = 100\n",
    " filter_boxcar\n",
    " filter_op\n",
    " filter_iter\n",
    " filter_degree\n",
    " filter_mdegree\n",
    " minimum_snr            = 1.0\n",
    " waverange\n",
    " artifact_mask          = BADSKY\n",
    " emission_line_mask     = ELPFULL\n",
    " template_library       = MILESHC\n",
    " match_resolution       = False\n",
    " velscale_ratio         = 4\n",
    " moments                = 2\n",
    " degree                 = 8\n",
    " mdegree                = -1\n",
    " bias\n",
    "```\n",
    "\n",
    "To change the fitting approach, copy this file to a new file name, like `seoul.ini`, and then change the parameters as you'd like.  Maybe you want to remove the polynomials, so you would have a file that looked like:\n",
    "```\n",
    "[default]\n",
    " key                    = SEOUL\n",
    " fit_type               = stellar_kinematics\n",
    " fit_method             = ppxf\n",
    " fit_iter               = nonzero_templates\n",
    " reject_boxcar          = 100\n",
    " filter_boxcar\n",
    " filter_op\n",
    " filter_iter\n",
    " filter_degree\n",
    " filter_mdegree\n",
    " minimum_snr            = 1.0\n",
    " waverange\n",
    " artifact_mask          = BADSKY\n",
    " emission_line_mask     = ELPFULL\n",
    " template_library       = MILESHC\n",
    " match_resolution       = False\n",
    " velscale_ratio         = 4\n",
    " moments                = 2\n",
    " degree                 = 0\n",
    " mdegree                = -1\n",
    " bias\n",
    "```\n",
    "\n",
    "Once you put the `seoul.ini` file in the `python/mangadap/config/stellar_continuum_modeling` directory, it will then appear as an available method.  Then you can use that method by changing the appropriate keyword in `fit_one_cube`."
   ]
  },
  {
   "cell_type": "code",
   "execution_count": 18,
   "metadata": {},
   "outputs": [
    {
     "name": "stdout",
     "output_type": "stream",
     "text": [
      "There are 8 predefined methods: ['GAU-BC03', 'GAU-CKC', 'GAU-CKCL', 'GAU-M11-MARCS', 'GAU-M11-MILES', 'GAU-MILESHC', 'GAU-MIUSCAT-THIN', 'SEOUL']\n"
     ]
    }
   ],
   "source": [
    "sc_methods = available_stellar_continuum_modeling_methods()\n",
    "sc_method_keys = [ sc['key'] for sc in sc_methods ]\n",
    "print('There are {0} predefined methods: {1}'.format(len(sc_methods), sc_method_keys))"
   ]
  },
  {
   "cell_type": "markdown",
   "metadata": {},
   "source": [
    "# Adding a new template library\n",
    "\n",
    "For the template libraries, list of emission-line bandpasses, list of emission lines to model, absorption-line indices to measure, and the bandhead indices to measure, there are two things that are important to the DAP:\n",
    " - a file telling the DAP where to find the appropriate date\n",
    " - the data themselves\n",
    " \n",
    "The template library is provided as a set of fits files, one per spectrum in the library, in a set of directories in the `data/spectral_templates/`.  The fits files are read using `mangadap.util.fileio.read_template_spectrum`; for example:"
   ]
  },
  {
   "cell_type": "code",
   "execution_count": 20,
   "metadata": {},
   "outputs": [
    {
     "data": {
      "text/plain": [
       "[<matplotlib.lines.Line2D at 0x109a3cd68>]"
      ]
     },
     "execution_count": 20,
     "metadata": {},
     "output_type": "execute_result"
    },
    {
     "data": {
      "image/png": "[encoded data removed]",
      "text/plain": [
       "<Figure size 432x288 with 1 Axes>"
      ]
     },
     "metadata": {},
     "output_type": "display_data"
    }
   ],
   "source": [
    "from matplotlib import pyplot\n",
    "from mangadap.util.fileio import read_template_spectrum\n",
    "test_file = '../data/spectral_templates/miles_cluster/MILES_cluster_group_01.fits'\n",
    "wave, flux = read_template_spectrum(test_file)\n",
    "pyplot.plot(wave, flux)"
   ]
  },
  {
   "cell_type": "markdown",
   "metadata": {},
   "source": [
    "This works because the fits files for the template spectra have a specific format:"
   ]
  },
  {
   "cell_type": "code",
   "execution_count": 21,
   "metadata": {},
   "outputs": [
    {
     "name": "stdout",
     "output_type": "stream",
     "text": [
      "Help on function read_template_spectrum in module mangadap.util.fileio:\n",
      "\n",
      "read_template_spectrum(filename, data_ext=None, ivar_ext=None, sres_ext=None, log10=False)\n",
      "    Read a template spectrum.\n",
      "    \n",
      "    Template spectra are \"raw format\" files with template data and are,\n",
      "    at minimum, expected to have the following components::\n",
      "    \n",
      "        hdu[0].header['CRVAL1']\n",
      "        hdu[0].header['CRPIX1']\n",
      "        hdu[0].header['CDELT1']\n",
      "        hdu[data_ext].data\n",
      "    \n",
      "    The latter has the flux data.  If `log10` is true, the wavelength\n",
      "    solution above is expected to be in log wavelengths.\n",
      "    \n",
      "    Args:\n",
      "        filename (str): Name of the fits file to read.\n",
      "        data_ext (str): (**Optional**) Name of the extension with the\n",
      "            flux data.  If None, default is 0.\n",
      "        ivar_ext (str): (**Optional**) Name of the extension with the\n",
      "            inverse variance data.  If None, no inverse data are\n",
      "            returned.\n",
      "        sres_ext (str): (**Optional**) Name of the extension with the\n",
      "            specral resolution (:math:R=\\lambda/\\delta\\lambda`)\n",
      "            measurements.  If None, no spectral resolution data are\n",
      "            returned.\n",
      "        log10 (bool): (**Optional**) Flag the WCS wavelength coordinates\n",
      "            as being in base-10 log wavelength, instead of linear.\n",
      "            Default is to assume linear.\n",
      "    \n",
      "    Returns:\n",
      "        numpy.ndarray : Up to four numpy.float64 arrays with the\n",
      "        wavelength, flux, inverse variance (if `ivar_ext` is provided),\n",
      "        and spectral resolution (if `sres_ext` is provided) of the\n",
      "        template spectrum.\n",
      "    \n",
      "    Raises:\n",
      "        ValueError: Raised if fits file is not one-dimensional.\n",
      "        KeyError: Raised if various header keywords or extension names\n",
      "            are not available.\n",
      "\n"
     ]
    }
   ],
   "source": [
    "help(read_template_spectrum)"
   ]
  },
  {
   "cell_type": "markdown",
   "metadata": {},
   "source": [
    "The template libraries are prepared for fitting using the `TemplateLibrary` class.  Again, there is a function that will let you know what template libraries are available:"
   ]
  },
  {
   "cell_type": "code",
   "execution_count": 24,
   "metadata": {},
   "outputs": [
    {
     "name": "stdout",
     "output_type": "stream",
     "text": [
      "['BC03', 'CKC', 'CKCL', 'M11ELODIE', 'M11MARCS', 'M11MILES', 'M11STELIB', 'M11STELIBZSOL', 'MILES', 'MILESAVG', 'MILESHC', 'MILESTHIN', 'MIUSCAT', 'MIUSCATTHIN', 'STELIB']\n"
     ]
    }
   ],
   "source": [
    "from mangadap.proc.templatelibrary import available_template_libraries\n",
    "lib = available_template_libraries()\n",
    "print([ l['key'] for l in lib])"
   ]
  },
  {
   "cell_type": "markdown",
   "metadata": {},
   "source": [
    "These are defined by the configuration files in `./python/mangadap/config/spectral_templates`.  The file for the MILESHC library looks like this:\n",
    "```\n",
    "[Path]\n",
    " dapsrc           = ${MANGADAP_DIR}\n",
    "\n",
    "[default]\n",
    " key              = MILESHC\n",
    " file_search      = ${Path:dapsrc}/data/spectral_templates/miles_cluster/*.fits\n",
    " fwhm             = 2.50\n",
    " sres_ext\n",
    " in_vacuum        = False\n",
    " wave_limit       = 3575, 7400\n",
    " lower_flux_limit = 0.0\n",
    " log10            = False\n",
    "```\n",
    "\n",
    "And you can construct the templates for this library using the `TemplateLibrary` class."
   ]
  },
  {
   "cell_type": "code",
   "execution_count": 35,
   "metadata": {},
   "outputs": [
    {
     "name": "stdout",
     "output_type": "stream",
     "text": [
      "--------------------------------------------------\n",
      "Template library output path: None\n",
      "Template library output file: None\n",
      "Found 42 MILESHC templates\n",
      "Maximum number of wavelength channels: 4300\n",
      "Attempting to build raw data ...\n",
      "... done\n",
      "Matching sampling ... \n",
      "... done\n",
      "After resampling (target): 2.5e-05\n",
      "After resampling (calculated): 2.499999999999995e-05\n",
      "--------------------------------------------------\n",
      "Number of templates: 42\n"
     ]
    },
    {
     "data": {
      "text/plain": [
       "[<matplotlib.lines.Line2D at 0x10deb5668>]"
      ]
     },
     "execution_count": 35,
     "metadata": {},
     "output_type": "execute_result"
    },
    {
     "data": {
      "image/png": "[encoded data removed]",
      "text/plain": [
       "<Figure size 432x288 with 1 Axes>"
      ]
     },
     "metadata": {},
     "output_type": "display_data"
    }
   ],
   "source": [
    "from mangadap.proc.templatelibrary import TemplateLibrary\n",
    "sc_tpl = TemplateLibrary('MILESHC', match_to_drp_resolution=False,\n",
    "                         velscale_ratio=4, spectral_step=1e-4, log=True, hardcopy=False)\n",
    "print('Number of templates: {0}'.format(sc_tpl.ntpl))\n",
    "pyplot.plot(sc_tpl['WAVE'].data, sc_tpl['FLUX'].data[0,:])"
   ]
  },
  {
   "cell_type": "markdown",
   "metadata": {},
   "source": [
    "To add another library, you have to tell the DAP where it is and some of its properties using the `TemplateLibraryDef` object.  For the MILESHC library from above, the `TemplateLibraryDef` object is defined using the configuration file.  To add a new library, let's first convert a MaStar spectrum into a template that the DAP can read:"
   ]
  },
  {
   "cell_type": "code",
   "execution_count": 36,
   "metadata": {},
   "outputs": [],
   "source": [
    "from mangadap.util.constants import DAPConstants\n",
    "from mangadap.util.filter import interpolate_masked_vector\n",
    "\n",
    "def create_mastar_template_spectrum():\n",
    "    output_file = 'mastar-8047-9101-tpl.fits'\n",
    "\n",
    "    hdu = fits.open('mastar-LOG-8047-9101.fits.gz')\n",
    "    wave = hdu['MASTAR'].data['WAVE'].ravel()\n",
    "    flux = hdu['MASTAR'].data['FLUX'].ravel()\n",
    "    sres = interpolate_masked_vector(numpy.ma.power(DAPConstants.sig2fwhm\n",
    "                                        * hdu['MASTAR'].data['PREDISP'].ravel() / wave, -1))\n",
    "\n",
    "    hdr = fits.Header()\n",
    "    hdr['CRPIX1'] = 1\n",
    "    hdr['CRVAL1'] = numpy.log10(wave[0])\n",
    "    hdr['CDELT1'] = numpy.diff(numpy.log10(wave[:2]))[0]\n",
    "    hdr['CD1_1'] = hdr['CDELT1']\n",
    "    fits.HDUList([ fits.PrimaryHDU(flux, header=hdr),\n",
    "                   fits.ImageHDU(sres, name='SPECRES')]).writeto(output_file, overwrite=True)"
   ]
  },
  {
   "cell_type": "code",
   "execution_count": 37,
   "metadata": {},
   "outputs": [
    {
     "data": {
      "text/plain": [
       "[<matplotlib.lines.Line2D at 0x10e9abe10>]"
      ]
     },
     "execution_count": 37,
     "metadata": {},
     "output_type": "execute_result"
    },
    {
     "data": {
      "image/png": "[encoded data removed]",
      "text/plain": [
       "<Figure size 432x288 with 1 Axes>"
      ]
     },
     "metadata": {},
     "output_type": "display_data"
    }
   ],
   "source": [
    "create_mastar_template_spectrum()\n",
    "wave, flux, sres = read_template_spectrum('mastar-8047-9101-tpl.fits', sres_ext='SPECRES')\n",
    "pyplot.plot(wave, flux)"
   ]
  },
  {
   "cell_type": "code",
   "execution_count": 31,
   "metadata": {},
   "outputs": [
    {
     "data": {
      "text/plain": [
       "       Parameter                      Value  Default        Type  Callable\n",
       "--------------------------------------------------------------------------\n",
       "             key                     MaStar     None         str     False\n",
       "     file_search  mastar-8047-9101-tpl.fits     None         str     False\n",
       "            fwhm                       None     None  int, float     False\n",
       "        sres_ext                    SPECRES     None         str     False\n",
       "       in_vacuum                       True     None        bool     False\n",
       "      wave_limit                       None     None     ndarray     False\n",
       "lower_flux_limit                       None     None  int, float     False\n",
       "           log10                       True     None        bool     False"
      ]
     },
     "execution_count": 31,
     "metadata": {},
     "output_type": "execute_result"
    }
   ],
   "source": [
    "from mangadap.proc.templatelibrary import TemplateLibraryDef\n",
    "tpllib_list = [ TemplateLibraryDef('MaStar',\n",
    "                                   file_search='mastar-8047-9101-tpl.fits',\n",
    "                                   sres_ext='SPECRES',\n",
    "                                   in_vacuum=True,\n",
    "                                   log10=True) ]\n",
    "tpllib_list[0]"
   ]
  },
  {
   "cell_type": "code",
   "execution_count": 33,
   "metadata": {},
   "outputs": [
    {
     "name": "stdout",
     "output_type": "stream",
     "text": [
      "--------------------------------------------------\n",
      "Template library output path: None\n",
      "Template library output file: None\n",
      "Found 1 MaStar templates\n",
      "Maximum number of wavelength channels: 4563\n",
      "Attempting to build raw data ...\n",
      "... done\n",
      "Matching sampling ... \n",
      "... done\n",
      "After resampling (target): 2.5e-05\n",
      "After resampling (calculated): 2.500000000000003e-05\n",
      "--------------------------------------------------\n"
     ]
    },
    {
     "data": {
      "text/plain": [
       "[<matplotlib.lines.Line2D at 0x10ea1c550>]"
      ]
     },
     "execution_count": 33,
     "metadata": {},
     "output_type": "execute_result"
    },
    {
     "data": {
      "image/png": "[encoded data removed]",
      "text/plain": [
       "<Figure size 432x288 with 1 Axes>"
      ]
     },
     "metadata": {},
     "output_type": "display_data"
    }
   ],
   "source": [
    "sc_tpl = TemplateLibrary('MaStar', tpllib_list=tpllib_list, match_to_drp_resolution=False,\n",
    "                         velscale_ratio=4, spectral_step=1e-4, log=True, hardcopy=False)\n",
    "pyplot.plot(sc_tpl['WAVE'].data, sc_tpl['FLUX'].data[0,:])"
   ]
  },
  {
   "cell_type": "markdown",
   "metadata": {},
   "source": [
    "Or maybe you just want a set of old SSPs from MIUSCAT:"
   ]
  },
  {
   "cell_type": "code",
   "execution_count": 34,
   "metadata": {},
   "outputs": [
    {
     "name": "stdout",
     "output_type": "stream",
     "text": [
      "--------------------------------------------------\n",
      "Template library output path: None\n",
      "Template library output file: None\n",
      "Found 4 OLDSSPs templates\n",
      "Maximum number of wavelength channels: 6672\n",
      "Attempting to build raw data ...\n",
      "... done\n",
      "Matching sampling ... \n",
      "... done\n",
      "After resampling (target): 2.5e-05\n",
      "After resampling (calculated): 2.4999999999999923e-05\n",
      "--------------------------------------------------\n",
      "Number of templates: 4\n"
     ]
    },
    {
     "data": {
      "text/plain": [
       "[<matplotlib.lines.Line2D at 0x119f98518>]"
      ]
     },
     "execution_count": 34,
     "metadata": {},
     "output_type": "execute_result"
    },
    {
     "data": {
      "image/png": "[encoded data removed]",
      "text/plain": [
       "<Figure size 432x288 with 1 Axes>"
      ]
     },
     "metadata": {},
     "output_type": "display_data"
    }
   ],
   "source": [
    "file_search = os.path.join(os.environ['MANGADAP_DIR'], 'data', 'spectral_templates',\n",
    "                           'miuscat', '*T10.0000.fits')\n",
    "tpllib_list += [ TemplateLibraryDef('OLDSSPs',\n",
    "                                     file_search=file_search,\n",
    "                                     fwhm=2.51,\n",
    "                                     in_vacuum=False,\n",
    "                                     wave_limit=numpy.array([3480, 9430]),\n",
    "                                     log10=False) ]\n",
    "sc_tpl = TemplateLibrary('OLDSSPs', tpllib_list=tpllib_list, match_to_drp_resolution=False,\n",
    "                         velscale_ratio=4, spectral_step=1e-4, log=True, hardcopy=False)\n",
    "print('Number of templates: {0}'.format(sc_tpl.ntpl))\n",
    "pyplot.plot(sc_tpl['WAVE'].data, sc_tpl['FLUX'].data[0,:])\n"
   ]
  },
  {
   "cell_type": "markdown",
   "metadata": {},
   "source": [
    "# Adding a new emission line to fit\n",
    "\n",
    "Although it makes things a little onerous, the principles shown above for the template libraries is the same for how you define the set of emission lines to fit.  I.e., you need a file with the data and a file that tells the DAP where to find the data.  For the emission lines, the file with the data is an SDSS par file that lives in the `./data/emission_lines/` directory and the associated configuration files live in the `./python/mangadap/config/emission_lines` directory.\n",
    "\n",
    "The emission lines fit during MPL-7/DR15 are in `./data/emission_lines/elpmiles.par` and the config file, `.python/mangadap/config/emission_lines/elpmiles.ini`, looks like this:\n",
    "```\n",
    "[Path]\n",
    " dapsrc           = ${MANGADAP_DIR}\n",
    "\n",
    "[default]\n",
    " key              = ELPMILES\n",
    "file_path = ${Path:dapsrc}/data/emission_lines/elpmiles.par\n",
    "```\n",
    "\n",
    "Again, you can find out the available emission-line databases as follows:"
   ]
  },
  {
   "cell_type": "code",
   "execution_count": 40,
   "metadata": {},
   "outputs": [
    {
     "name": "stdout",
     "output_type": "stream",
     "text": [
      "['BELFIORE', 'ELPEXT', 'ELPFULL', 'ELPMILES', 'ELPMILEST', 'ELPSTRONG', 'ELPT0', 'ELPT1', 'ELPT2', 'ELPT3']\n"
     ]
    }
   ],
   "source": [
    "from mangadap.par.emissionlinedb import available_emission_line_databases\n",
    "dbs = available_emission_line_databases()\n",
    "print([db['key'] for db in dbs])"
   ]
  },
  {
   "cell_type": "code",
   "execution_count": 44,
   "metadata": {},
   "outputs": [
    {
     "data": {
      "text/plain": [
       "array(['OII', 'OII', 'Hthe', 'Heta', 'NeIII', 'Hzet', 'NeIII', 'Heps',\n",
       "       'Hdel', 'Hgam', 'HeII', 'Hb', 'OIII', 'OIII', 'HeI', 'OI', 'OI',\n",
       "       'NII', 'Ha', 'NII', 'SII', 'SII'], dtype='<U5')"
      ]
     },
     "execution_count": 44,
     "metadata": {},
     "output_type": "execute_result"
    }
   ],
   "source": [
    "from mangadap.par.emissionlinedb import EmissionLineDB\n",
    "emldb = EmissionLineDB('ELPMILES')\n",
    "emldb['name']"
   ]
  },
  {
   "cell_type": "code",
   "execution_count": null,
   "metadata": {},
   "outputs": [],
   "source": []
  }
 ],
 "metadata": {
  "kernelspec": {
   "display_name": "Python 3",
   "language": "python",
   "name": "python3"
  },
  "language_info": {
   "codemirror_mode": {
    "name": "ipython",
    "version": 3
   },
   "file_extension": ".py",
   "mimetype": "text/x-python",
   "name": "python",
   "nbconvert_exporter": "python",
   "pygments_lexer": "ipython3",
   "version": "3.6.2"
  }
 },
 "nbformat": 4,
 "nbformat_minor": 2
}
