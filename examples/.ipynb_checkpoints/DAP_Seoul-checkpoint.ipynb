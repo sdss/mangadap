{
 "cells": [
  {
   "cell_type": "markdown",
   "metadata": {},
   "source": [
    "# Installation\n",
    "\n",
    "The DAP is only compatible with Python3 at the moment.  You can get Python3 from https://www.python.org/ or you can install Anaconda from https://www.anaconda.com/download/.\n",
    "\n",
    "To install the DAP, grab the code from the new SDSS git repository and run the setup script:\n",
    "\n",
    "```\n",
    "git clone https://github.com/sdss/mangadap.git\n",
    "cd mangadap\n",
    "git fetch\n",
    "git checkout release-dr15\n",
    "python3 setup.py install\n",
    "```\n",
    "\n",
    "You can see the python package dependencies, which the setup should try to install, in the `mangadap/requirements.txt` file:\n",
    "\n",
    "```\n",
    "# Package dependencies of the MaNGA DAP\n",
    "numpy>=1.13.3\n",
    "scipy>=1.0\n",
    "matplotlib>=2.1.0\n",
    "astropy>=2.0.2\n",
    "pydl>=0.6.0\n",
    "ppxf==6.7.8\n",
    "vorbin==3.1.3\n",
    "```\n",
    "\n",
    "There's currently no DAP test suite, so we just have to try to run the code to see if it install correctly.\n",
    "\n",
    "At the end of the installation you'll likely get warnings like these:\n",
    "\n",
    "```\n",
    " UserWarning: MANGADRP_VER environmental variable undefined.  Default is: v2_4_3\n",
    " UserWarning: MANGA_SPECTRO_REDUX environmental variable undefined.  Default is: /Users/westfall/MaNGA/redux\n",
    " UserWarning: MANGADAP_VER environmental variable undefined.  Default is: 2.2.3dev\n",
    " UserWarning: MANGA_SPECTRO_ANALYSIS environmental variable undefined.  Default is: /Users/westfall/MaNGA/analysis\n",
    " UserWarning: MANGACORE_VER environmental variable undefined.  Default is: v1_6_2\n",
    " UserWarning: MANGACORE_DIR environmental variable undefined.  Default is: /Users/westfall/MaNGA/core/v1_6_2\n",
    "```\n",
    "\n",
    "This is telling you that the environment variables are not set, and that it will use the default values.  These warnings will also appear anytime you import the DAP.  The table below provides a description of these environmental variables.\n",
    "\n",
    "| Key                       | Default                | Purpose |\n",
    "|---------------------------|------------------------|---------|\n",
    "| `$MANGADRP_VER`           | `v2_4_3`               | Sets DRP version used for some file names |\n",
    "| `$MANGA_SPECTRO_REDUX`    | `$HOME/MaNGA/redux`    | Root directory with all reduced data |\n",
    "| `$MANGADAP_VER`           | `mangadap.__version__` | Sets the DAP version *used to set the path to read/write any DAP output files.*  I.e., this does not reset the version of the code that will be used. |\n",
    "| `$MANGA_SPECTRO_ANALYSIS` | `$HOME/MaNGA/analysis` | Root directory for all the analysis data |\n",
    "| `$MANGACORE_VER`          | `v1_6_2`               | MaNGA CORE version (only needed for survey-level setup of the DAP) |\n",
    "| `$MANGACORE_DIR`          | `$HOME/MaNGA/core/$MANGACORE_VER` | Directory with MaNGA CORE source (only needed for survey-level setup of the DAP |\n",
    "\n",
    "These will be the values used if you don't redefine them in your environment.  You can do this by adding something similar to the following to your `.bash_profile` file.\n",
    "\n",
    "```\n",
    "export MANGADRP_VER=v2_4_3\n",
    "export MANGA_SPECTRO_REDUX=/MY/MANGA/REDUX/PATH\n",
    "\n",
    "export MANGADAP_VER=2.2.1\n",
    "export MANGA_SPECTRO_ANALYSIS=/MY/MANGA/ANALYSIS/PATH\n",
    "\n",
    "export MANGACORE_VER=v1_6_2\n",
    "export MANGACORE_DIR=$HOME/Work/MaNGA/core/$MANGACORE_VER\n",
    "```\n",
    "\n",
    "**Note**: The DAP expects to find the `LOGCUBE` files to fit in `$MANGA_SPECTRO_REDUX/$MANGADRP_VER/*/stack` and it will write output to `$MANGA_SPECTRO_ANALYSIS/$MANGADRP_VER/$MANGADAP_VER/`.\n"
   ]
  },
  {
   "cell_type": "code",
   "execution_count": 1,
   "metadata": {},
   "outputs": [
    {
     "name": "stderr",
     "output_type": "stream",
     "text": [
      " UserWarning: MANGADRP_VER environmental variable undefined.  Using: v2_4_3\n",
      " UserWarning: MANGA_SPECTRO_REDUX environmental variable undefined.  Using: /Users/westfall/MaNGA/redux\n",
      " UserWarning: MANGADAP_VER environmental variable undefined.  Using: 2.2.3dev\n",
      " UserWarning: MANGA_SPECTRO_ANALYSIS environmental variable undefined.  Using: /Users/westfall/MaNGA/analysis\n",
      " UserWarning: MANGACORE_VER environmental variable undefined.  Using: v1_6_2\n",
      " UserWarning: MANGACORE_DIR environmental variable undefined.  Using: /Users/westfall/MaNGA/core/v1_6_2\n"
     ]
    }
   ],
   "source": [
    "import mangadap"
   ]
  },
  {
   "cell_type": "code",
   "execution_count": null,
   "metadata": {},
   "outputs": [],
   "source": [
    "import os\n",
    "import astropy.constants\n",
    "from mangadap.survey.manga_dap import manga_dap\n",
    "from mangadap.par.obsinput import ObsInputPar\n",
    "from mangadap.par.analysisplan import AnalysisPlan, AnalysisPlanSet"
   ]
  },
  {
   "cell_type": "code",
   "execution_count": null,
   "metadata": {},
   "outputs": [],
   "source": [
    "def get_obsinput(plt, ifu, drpall_file=None):\n",
    "    \"\"\"\n",
    "    Grab the input parameters the DAP requires for each observation to\n",
    "    fit a cube.  If the drpall file is None, use the default path.\n",
    "    \"\"\"\n",
    "    hdu = fits.open(os.path.join(os.environ['MANGA_SPECTRO_REDUX'], os.environ['MANGADRP_VER'],\n",
    "                                 'drpall-{0}.fits'.format(os.environ['MANGADRP_VER']))) \\\n",
    "                if drpall_file is None else fits.open(drpall_file)\n",
    "    indx = hdu[1].data['PLATEIFU'] == '{0}-{1}'.format(plt, ifu)\n",
    "\n",
    "    return ObsInputPar(plt, ifu, mode='CUBE',\n",
    "                       vel=astropy.constants.c.to('km/s').value*hdu[1].data['NSA_Z'][indx][0],\n",
    "                       vdisp=100.,\n",
    "                       ell=1-hdu[1].data['NSA_ELPETRO_BA'][indx][0],\n",
    "                       pa=hdu[1].data['NSA_ELPETRO_PHI'][indx][0],\n",
    "                       reff=hdu[1].data['NSA_ELPETRO_TH50_R'][indx][0])"
   ]
  },
  {
   "cell_type": "code",
   "execution_count": null,
   "metadata": {},
   "outputs": [],
   "source": [
    "def fit_one_cube(plt, ifu, drpall_file=None, directory_path=None, analysis_path=None):\n",
    "    # Grab the required input parameters\n",
    "    obs = get_obsinput(plt, ifu, drpall_file=drpall_file)\n",
    "\n",
    "    # Define how you want to analyze the data\n",
    "    plan = AnalysisPlanSet([ AnalysisPlan(drpqa_key='SNRG',\n",
    "                                          bin_key='HYB10',\n",
    "                                          continuum_key='GAU-MILESHC',\n",
    "                                          elmom_key='EMOMM',\n",
    "                                          elfit_key='EFITMDB',\n",
    "                                          spindex_key='INDXEN') ])\n",
    "\n",
    "    # Run it!\n",
    "    return manga_dap(obs, plan, verbose=2, directory_path=directory_path,\n",
    "                     analysis_path=analysis_path)"
   ]
  },
  {
   "cell_type": "code",
   "execution_count": null,
   "metadata": {},
   "outputs": [],
   "source": [
    "fit_one_cube(7815, 3702, drpall_file='./data/drpall-v2_4_3.fits', directory_path='./data',\n",
    "             analysis_path='./output')"
   ]
  }
 ],
 "metadata": {
  "kernelspec": {
   "display_name": "Python 3",
   "language": "python",
   "name": "python3"
  },
  "language_info": {
   "codemirror_mode": {
    "name": "ipython",
    "version": 3
   },
   "file_extension": ".py",
   "mimetype": "text/x-python",
   "name": "python",
   "nbconvert_exporter": "python",
   "pygments_lexer": "ipython3",
   "version": "3.6.2"
  }
 },
 "nbformat": 4,
 "nbformat_minor": 2
}
